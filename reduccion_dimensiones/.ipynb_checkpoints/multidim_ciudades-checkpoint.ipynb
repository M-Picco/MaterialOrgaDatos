{
 "cells": [
  {
   "cell_type": "code",
   "execution_count": 1,
   "metadata": {},
   "outputs": [],
   "source": [
    "import numpy as np\n",
    "from sklearn import manifold\n",
    "from sklearn.metrics import euclidean_distances\n",
    "\n",
    "A = np.matrix([[0,1337,938,840,647,748,984,578,987,800,2505], \n",
    "             [1337,0,749,1005,810,1017,1026,1385,1661,1860,3068], \n",
    "             [938,749,0,262,825,1116,1271,1297,1693,1687,2978], \n",
    "             [840,1005,262,0,920,1198,1385,1296,1712,1630,2919], \n",
    "             [647,810,825,920,0,291,467,579,909,1051,2284], \n",
    "             [748,1017,1116,1198,291,0,236,414,648,887,2051], \n",
    "             [984,1026,1271,1385,467,236,0,586,677,1022,2083], \n",
    "             [578,1385,1297,1296,579,414,586,0,421,480,1713], \n",
    "             [987,1661,1693,1712,909,648,677,421,0,479,1412], \n",
    "             [800,1860,1687,1630,1051,887,1022,480,479,0,1292], \n",
    "             [2505,3068,2978,2919,2284,2051,2083,1713,1412,1292,0]]) "
   ]
  },
  {
   "cell_type": "code",
   "execution_count": 2,
   "metadata": {},
   "outputs": [
    {
     "data": {
      "text/plain": [
       "matrix([[   0, 1337,  938,  840,  647,  748,  984,  578,  987,  800,\n",
       "         2505],\n",
       "        [1337,    0,  749, 1005,  810, 1017, 1026, 1385, 1661, 1860,\n",
       "         3068],\n",
       "        [ 938,  749,    0,  262,  825, 1116, 1271, 1297, 1693, 1687,\n",
       "         2978],\n",
       "        [ 840, 1005,  262,    0,  920, 1198, 1385, 1296, 1712, 1630,\n",
       "         2919],\n",
       "        [ 647,  810,  825,  920,    0,  291,  467,  579,  909, 1051,\n",
       "         2284],\n",
       "        [ 748, 1017, 1116, 1198,  291,    0,  236,  414,  648,  887,\n",
       "         2051],\n",
       "        [ 984, 1026, 1271, 1385,  467,  236,    0,  586,  677, 1022,\n",
       "         2083],\n",
       "        [ 578, 1385, 1297, 1296,  579,  414,  586,    0,  421,  480,\n",
       "         1713],\n",
       "        [ 987, 1661, 1693, 1712,  909,  648,  677,  421,    0,  479,\n",
       "         1412],\n",
       "        [ 800, 1860, 1687, 1630, 1051,  887, 1022,  480,  479,    0,\n",
       "         1292],\n",
       "        [2505, 3068, 2978, 2919, 2284, 2051, 2083, 1713, 1412, 1292,\n",
       "            0]])"
      ]
     },
     "execution_count": 2,
     "metadata": {},
     "output_type": "execute_result"
    }
   ],
   "source": [
    "A = A\n",
    "A"
   ]
  },
  {
   "cell_type": "code",
   "execution_count": 3,
   "metadata": {},
   "outputs": [
    {
     "name": "stdout",
     "output_type": "stream",
     "text": [
      "1076.297520661157\n"
     ]
    }
   ],
   "source": [
    "mean = A.mean()\n",
    "print(mean)\n",
    "vfrestarmean = np.vectorize(lambda x: x - mean)\n",
    "\n",
    "# centro los datos\n",
    "#A = vfrestarmean(A)\n",
    "#A"
   ]
  },
  {
   "cell_type": "code",
   "execution_count": 4,
   "metadata": {},
   "outputs": [],
   "source": [
    "#dist = euclidean_distances(A)\n",
    "#dist\n",
    "dist = A"
   ]
  },
  {
   "cell_type": "code",
   "execution_count": 5,
   "metadata": {},
   "outputs": [
    {
     "data": {
      "text/plain": [
       "array([[  426.39876484,   319.30444778],\n",
       "       [ -789.54091351,   824.37765377],\n",
       "       [  -76.58636861,  1054.8635317 ],\n",
       "       [  190.45078486,  1064.77211525],\n",
       "       [ -213.6758897 ,   244.242367  ],\n",
       "       [ -244.56683372,   -40.58331478],\n",
       "       [ -459.49926592,  -142.65370963],\n",
       "       [  133.81077222,  -221.7552397 ],\n",
       "       [   22.38916588,  -623.87214146],\n",
       "       [  482.00104296,  -546.90700415],\n",
       "       [  528.8187407 , -1931.78870579]])"
      ]
     },
     "execution_count": 5,
     "metadata": {},
     "output_type": "execute_result"
    }
   ],
   "source": [
    "mds = manifold.MDS(n_components=2, max_iter=3000, eps=1e-9, dissimilarity=\"precomputed\", n_jobs=1)\n",
    "res = mds.fit(dist).embedding_\n",
    "res"
   ]
  },
  {
   "cell_type": "code",
   "execution_count": 6,
   "metadata": {},
   "outputs": [],
   "source": [
    "from matplotlib import pyplot as plt"
   ]
  },
  {
   "cell_type": "code",
   "execution_count": 7,
   "metadata": {},
   "outputs": [
    {
     "name": "stderr",
     "output_type": "stream",
     "text": [
      "/home/mpicco/anaconda3/lib/python3.6/site-packages/ipykernel_launcher.py:10: RuntimeWarning: divide by zero encountered in true_divide\n",
      "  # Remove the CWD from sys.path while we load stuff.\n"
     ]
    },
    {
     "data": {
      "image/png": "[encoded data removed]",
      "text/plain": [
       "<matplotlib.figure.Figure at 0x7fdc282ed5f8>"
      ]
     },
     "metadata": {},
     "output_type": "display_data"
    }
   ],
   "source": [
    "fig = plt.figure(1)\n",
    "ax = plt.axes([0., 0., 1., 1.])\n",
    "labels = range(0, res.shape[0])\n",
    "\n",
    "fig.suptitle('Ciudades')\n",
    "\n",
    "plt.scatter(res[:, 0], res[:, 1], color='turquoise', lw=0, label='MDS')\n",
    "plt.legend(scatterpoints=1, loc='best', shadow=False)\n",
    "\n",
    "distances = dist.max() / dist * 100\n",
    "distances[np.isinf(distances)] = 0\n",
    "\n",
    "for i, txt in enumerate(labels):\n",
    "    ax.annotate(txt, (res[i,0], res[i,1]))\n",
    "\n",
    "plt.show()"
   ]
  },
  {
   "cell_type": "code",
   "execution_count": null,
   "metadata": {},
   "outputs": [],
   "source": []
  }
 ],
 "metadata": {
  "kernelspec": {
   "display_name": "Python 3",
   "language": "python",
   "name": "python3"
  },
  "language_info": {
   "codemirror_mode": {
    "name": "ipython",
    "version": 3
   },
   "file_extension": ".py",
   "mimetype": "text/x-python",
   "name": "python",
   "nbconvert_exporter": "python",
   "pygments_lexer": "ipython3",
   "version": "3.6.4"
  }
 },
 "nbformat": 4,
 "nbformat_minor": 2
}
