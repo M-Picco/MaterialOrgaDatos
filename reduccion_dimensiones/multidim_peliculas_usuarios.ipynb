{
 "cells": [
  {
   "cell_type": "code",
   "execution_count": 1,
   "metadata": {},
   "outputs": [],
   "source": [
    "import numpy as np\n",
    "from sklearn import manifold\n",
    "from sklearn.metrics import euclidean_distances\n",
    "\n",
    "A = np.matrix('5 2 1 5; 4 5 2 3; 2 5 5 1; 5 3 1 5; 3 4 5 2; 1 4 3 5')"
   ]
  },
  {
   "cell_type": "code",
   "execution_count": 2,
   "metadata": {},
   "outputs": [
    {
     "name": "stdout",
     "output_type": "stream",
     "text": [
      "3.375\n"
     ]
    },
    {
     "data": {
      "text/plain": [
       "matrix([[ 1.625, -1.375, -2.375,  1.625],\n",
       "        [ 0.625,  1.625, -1.375, -0.375],\n",
       "        [-1.375,  1.625,  1.625, -2.375],\n",
       "        [ 1.625, -0.375, -2.375,  1.625],\n",
       "        [-0.375,  0.625,  1.625, -1.375],\n",
       "        [-2.375,  0.625, -0.375,  1.625]])"
      ]
     },
     "execution_count": 2,
     "metadata": {},
     "output_type": "execute_result"
    }
   ],
   "source": [
    "mean = A.mean()\n",
    "print(mean)\n",
    "vfrestarmean = np.vectorize(lambda x: x - mean)\n",
    "\n",
    "# centro los datos\n",
    "A = vfrestarmean(A)\n",
    "A"
   ]
  },
  {
   "cell_type": "code",
   "execution_count": 3,
   "metadata": {},
   "outputs": [
    {
     "name": "stdout",
     "output_type": "stream",
     "text": [
      "[[0.         3.87298335 7.07106781 1.         5.74456265 4.89897949]\n",
      " [3.87298335 0.         4.12310563 3.16227766 3.46410162 3.87298335]\n",
      " [7.07106781 4.12310563 0.         6.70820393 1.73205081 4.69041576]\n",
      " [1.         3.16227766 6.70820393 0.         5.47722558 4.58257569]\n",
      " [5.74456265 3.46410162 1.73205081 5.47722558 0.         4.12310563]\n",
      " [4.89897949 3.87298335 4.69041576 4.58257569 4.12310563 0.        ]]\n",
      "\n",
      "[[0.         5.74456265 7.28010989 4.35889894]\n",
      " [5.74456265 0.         4.         6.164414  ]\n",
      " [7.28010989 4.         0.         7.87400787]\n",
      " [4.35889894 6.164414   7.87400787 0.        ]]\n"
     ]
    }
   ],
   "source": [
    "dist_usuarios = euclidean_distances(A)\n",
    "print(dist_usuarios)\n",
    "print('')\n",
    "dist_peliculas = euclidean_distances(A.transpose())\n",
    "print(dist_peliculas)"
   ]
  },
  {
   "cell_type": "code",
   "execution_count": 4,
   "metadata": {},
   "outputs": [
    {
     "name": "stdout",
     "output_type": "stream",
     "text": [
      "[[ 3.42275715  0.661508  ]\n",
      " [-0.12844738  1.47081352]\n",
      " [-3.77186033 -0.67068862]\n",
      " [ 2.77089919  1.20904933]\n",
      " [-2.59490184  0.04023956]\n",
      " [ 0.30155321 -2.7109218 ]]\n",
      "\n",
      "[[-0.4400513   3.4314652 ]\n",
      " [ 0.31783073 -2.64935385]\n",
      " [-3.36379194 -2.85577556]\n",
      " [ 3.48601251  2.07366421]]\n"
     ]
    }
   ],
   "source": [
    "mds = manifold.MDS(n_components=2, max_iter=3000, eps=1e-9, dissimilarity=\"precomputed\", n_jobs=1)\n",
    "res_usuarios = mds.fit(dist_usuarios).embedding_\n",
    "print(res_usuarios)\n",
    "print('')\n",
    "res_peliculas = mds.fit(dist_peliculas).embedding_\n",
    "print(res_peliculas)"
   ]
  },
  {
   "cell_type": "code",
   "execution_count": 5,
   "metadata": {},
   "outputs": [],
   "source": [
    "from matplotlib import pyplot as plt"
   ]
  },
  {
   "cell_type": "code",
   "execution_count": 6,
   "metadata": {},
   "outputs": [
    {
     "name": "stderr",
     "output_type": "stream",
     "text": [
      "/home/mpicco/anaconda3/lib/python3.6/site-packages/ipykernel_launcher.py:10: RuntimeWarning: divide by zero encountered in true_divide\n",
      "  # Remove the CWD from sys.path while we load stuff.\n"
     ]
    },
    {
     "data": {
      "image/png": "[encoded data removed]",
      "text/plain": [
       "<matplotlib.figure.Figure at 0x7f65b7e373c8>"
      ]
     },
     "metadata": {},
     "output_type": "display_data"
    }
   ],
   "source": [
    "fig = plt.figure(1)\n",
    "ax = plt.axes([0., 0., 1., 1.])\n",
    "labels = range(1, res_usuarios.shape[0] + 1)\n",
    "\n",
    "fig.suptitle('Usuarios')\n",
    "\n",
    "plt.scatter(res_usuarios[:, 0], res_usuarios[:, 1], color='turquoise', lw=0, label='MDS')\n",
    "plt.legend(scatterpoints=1, loc='best', shadow=False)\n",
    "\n",
    "distances = dist_usuarios.max() / dist_usuarios * 100\n",
    "distances[np.isinf(distances)] = 0\n",
    "\n",
    "for i, txt in enumerate(labels):\n",
    "    ax.annotate(txt, (res_usuarios[i,0],res_usuarios[i,1]))\n",
    "\n",
    "plt.show()"
   ]
  },
  {
   "cell_type": "code",
   "execution_count": 7,
   "metadata": {},
   "outputs": [
    {
     "name": "stderr",
     "output_type": "stream",
     "text": [
      "/home/mpicco/anaconda3/lib/python3.6/site-packages/ipykernel_launcher.py:10: RuntimeWarning: divide by zero encountered in true_divide\n",
      "  # Remove the CWD from sys.path while we load stuff.\n"
     ]
    },
    {
     "data": {
      "image/png": "[encoded data removed]",
      "text/plain": [
       "<matplotlib.figure.Figure at 0x7f65b7dd2be0>"
      ]
     },
     "metadata": {},
     "output_type": "display_data"
    }
   ],
   "source": [
    "fig = plt.figure(1)\n",
    "ax = plt.axes([0., 0., 1., 1.])\n",
    "labels = range(1, res_peliculas.shape[0] + 1)\n",
    "\n",
    "fig.suptitle('peliculas')\n",
    "\n",
    "plt.scatter(res_peliculas[:, 0], res_peliculas[:, 1], color='turquoise', lw=0, label='MDS')\n",
    "plt.legend(scatterpoints=1, loc='best', shadow=False)\n",
    "\n",
    "distances = dist_usuarios.max() / dist_usuarios * 100\n",
    "distances[np.isinf(distances)] = 0\n",
    "\n",
    "for i, txt in enumerate(labels):\n",
    "    ax.annotate(txt, (res_peliculas[i,0],res_peliculas[i,1]))\n",
    "\n",
    "plt.show()"
   ]
  },
  {
   "cell_type": "markdown",
   "metadata": {},
   "source": [
    "[] Los dos usuarios mas diferentes son el 4 y el 5.\n",
    "\n",
    "[X] Los dos usuarios mas diferentes son el 2 y el 3.\n",
    "\n",
    "[] Los dos usuarios mas similares son el 2 y el 3.\n",
    "\n",
    "[] Las dos películas mas diferentes son la 1 y la 2. "
   ]
  },
  {
   "cell_type": "code",
   "execution_count": null,
   "metadata": {},
   "outputs": [],
   "source": []
  }
 ],
 "metadata": {
  "kernelspec": {
   "display_name": "Python 3",
   "language": "python",
   "name": "python3"
  },
  "language_info": {
   "codemirror_mode": {
    "name": "ipython",
    "version": 3
   },
   "file_extension": ".py",
   "mimetype": "text/x-python",
   "name": "python",
   "nbconvert_exporter": "python",
   "pygments_lexer": "ipython3",
   "version": "3.6.4"
  }
 },
 "nbformat": 4,
 "nbformat_minor": 2
}
