{
 "cells": [
  {
   "cell_type": "code",
   "execution_count": 39,
   "metadata": {},
   "outputs": [],
   "source": [
    "import matplotlib.pyplot as plt\n",
    "import numpy as np"
   ]
  },
  {
   "cell_type": "code",
   "execution_count": 40,
   "metadata": {},
   "outputs": [
    {
     "name": "stdout",
     "output_type": "stream",
     "text": [
      "W:\n",
      "[[0 0 1 0 1 1]\n",
      " [0 0 1 1 0 0]\n",
      " [1 1 0 1 0 0]\n",
      " [0 1 1 0 0 0]\n",
      " [1 0 0 0 0 1]\n",
      " [1 0 0 0 1 0]]\n",
      "D:\n",
      "[[3 0 0 0 0 0]\n",
      " [0 2 0 0 0 0]\n",
      " [0 0 3 0 0 0]\n",
      " [0 0 0 4 0 0]\n",
      " [0 0 0 0 2 0]\n",
      " [0 0 0 0 0 1]]\n",
      "L:\n",
      "[[ 3  0 -1  0 -1 -1]\n",
      " [ 0  2 -1 -1  0  0]\n",
      " [-1 -1  3 -1  0  0]\n",
      " [ 0 -1 -1  4  0  0]\n",
      " [-1  0  0  0  2 -1]\n",
      " [-1  0  0  0 -1  1]]\n"
     ]
    }
   ],
   "source": [
    "#\t           A  B  C  D  E  F\n",
    "W = np.array([[0, 0, 1, 0, 1, 1],  # A\n",
    "\t   \t      [0, 0, 1, 1, 0, 0],  # B\n",
    "\t      \t  [1, 1, 0, 1, 0, 0],  # C\n",
    "\t      \t  [0, 1, 1, 0, 0, 0],  # D\n",
    "\t      \t  [1, 0, 0, 0, 0, 1],  # E\n",
    "\t      \t  [1, 0, 0, 0, 1, 0]]) # F\n",
    "print('W:')\n",
    "print(W)\n",
    "\n",
    "D = np.array([[3, 0, 0, 0, 0, 0],\n",
    "\t      \t  [0, 2, 0, 0, 0, 0],\n",
    "\t      \t  [0, 0, 3, 0, 0, 0],\n",
    "\t      \t  [0, 0, 0, 4, 0, 0],\n",
    "\t      \t  [0, 0, 0, 0, 2, 0],\n",
    "\t      \t  [0, 0, 0, 0, 0, 1]])\n",
    "print('D:')\n",
    "print(D)\n",
    "\n",
    "L = D - W\n",
    "print('L:')\n",
    "print(L)"
   ]
  },
  {
   "cell_type": "code",
   "execution_count": 44,
   "metadata": {},
   "outputs": [
    {
     "name": "stdout",
     "output_type": "stream",
     "text": [
      "[[-0.4033297   0.55075346  0.5        -0.31153388  0.07018539 -0.42663384]\n",
      " [ 0.04816803  0.42630097 -0.5         0.20142143  0.71636764 -0.11042706]\n",
      " [ 0.56595713 -0.32820583  0.5        -0.14165957  0.51768416 -0.18414431]\n",
      " [-0.70429439 -0.59471253  0.          0.03997065  0.37943738 -0.06867339]\n",
      " [ 0.1144594  -0.20375335 -0.5        -0.65461488 -0.12849809 -0.50035109]\n",
      " [ 0.07460547 -0.10963858  0.          0.6420205  -0.23110612 -0.71889711]]\n"
     ]
    }
   ],
   "source": [
    "np.set_printoptions(suppress=True)\n",
    "\n",
    "#autovals, autovecs = np.linalg.eig(L)\n",
    "#print(autovals)\n",
    "\n",
    "#for i in range(0, len(autovecs)):\n",
    "#    print('autovec {}: {}'.format(i+1, autovecs[i]))\n",
    "\n",
    "U, S, VT = np.linalg.svd(L)\n",
    "\n",
    "autovals = S#np.diag(S)\n",
    "\n",
    "print(VT.transpose())"
   ]
  },
  {
   "cell_type": "code",
   "execution_count": 43,
   "metadata": {},
   "outputs": [
    {
     "data": {
      "text/plain": [
       "<matplotlib.collections.PathCollection at 0x7ff9a4a752b0>"
      ]
     },
     "execution_count": 43,
     "metadata": {},
     "output_type": "execute_result"
    },
    {
     "data": {
      "image/png": "[encoded data removed]",
      "text/plain": [
       "<matplotlib.figure.Figure at 0x7ff9a4dff198>"
      ]
     },
     "metadata": {},
     "output_type": "display_data"
    }
   ],
   "source": [
    "indices = np.arange(0, len(autovals), 1)\n",
    "plt.scatter(indices, autovals)"
   ]
  },
  {
   "cell_type": "code",
   "execution_count": null,
   "metadata": {},
   "outputs": [],
   "source": []
  }
 ],
 "metadata": {
  "kernelspec": {
   "display_name": "Python 3",
   "language": "python",
   "name": "python3"
  },
  "language_info": {
   "codemirror_mode": {
    "name": "ipython",
    "version": 3
   },
   "file_extension": ".py",
   "mimetype": "text/x-python",
   "name": "python",
   "nbconvert_exporter": "python",
   "pygments_lexer": "ipython3",
   "version": "3.6.4"
  }
 },
 "nbformat": 4,
 "nbformat_minor": 2
}
