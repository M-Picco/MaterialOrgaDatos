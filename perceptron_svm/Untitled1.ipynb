{
 "cells": [
  {
   "cell_type": "code",
   "execution_count": 1,
   "metadata": {},
   "outputs": [],
   "source": [
    "import numpy as np\n",
    "import matplotlib.pyplot as plt"
   ]
  },
  {
   "cell_type": "code",
   "execution_count": 4,
   "metadata": {},
   "outputs": [],
   "source": [
    "datos1 = np.array([[2,4], [3,2], [4,5], [5,2]]) # clase -1\n",
    "datos2 = np.array([[6,5], [8,2], [8,7], [9,6]]) # clase +1"
   ]
  },
  {
   "cell_type": "code",
   "execution_count": 12,
   "metadata": {},
   "outputs": [
    {
     "data": {
      "image/png": "[encoded data removed]",
      "text/plain": [
       "<matplotlib.figure.Figure at 0x7f759b38f470>"
      ]
     },
     "metadata": {},
     "output_type": "display_data"
    }
   ],
   "source": [
    "plt.scatter(datos1[:,0], datos1[:,1], alpha=0.8)\n",
    "plt.scatter(datos2[:,0], datos2[:,1], alpha=0.8)\n",
    "\n",
    "x = np.arange(0, 10, 0.2)\n",
    "y = (6.65 - x) * 3\n",
    "plt.plot(x, y)\n",
    "\n",
    "plt.title(\"Datos\")\n",
    "plt.legend(['-1', '+1'])\n",
    "plt.show()"
   ]
  },
  {
   "cell_type": "code",
   "execution_count": 9,
   "metadata": {},
   "outputs": [
    {
     "data": {
      "text/plain": [
       "array([ 0.33333333,  0.13333333, -0.06666667, -0.26666667, -0.46666667,\n",
       "       -0.66666667, -0.86666667, -1.06666667, -1.26666667, -1.46666667,\n",
       "       -1.66666667, -1.86666667, -2.06666667, -2.26666667, -2.46666667,\n",
       "       -2.66666667, -2.86666667, -3.06666667, -3.26666667, -3.46666667,\n",
       "       -3.66666667, -3.86666667, -4.06666667, -4.26666667, -4.46666667,\n",
       "       -4.66666667, -4.86666667, -5.06666667, -5.26666667, -5.46666667,\n",
       "       -5.66666667, -5.86666667, -6.06666667, -6.26666667, -6.46666667,\n",
       "       -6.66666667, -6.86666667, -7.06666667, -7.26666667, -7.46666667,\n",
       "       -7.66666667, -7.86666667, -8.06666667, -8.26666667, -8.46666667,\n",
       "       -8.66666667, -8.86666667, -9.06666667, -9.26666667, -9.46666667])"
      ]
     },
     "execution_count": 9,
     "metadata": {},
     "output_type": "execute_result"
    }
   ],
   "source": []
  },
  {
   "cell_type": "code",
   "execution_count": null,
   "metadata": {},
   "outputs": [],
   "source": []
  }
 ],
 "metadata": {
  "kernelspec": {
   "display_name": "Python 3",
   "language": "python",
   "name": "python3"
  },
  "language_info": {
   "codemirror_mode": {
    "name": "ipython",
    "version": 3
   },
   "file_extension": ".py",
   "mimetype": "text/x-python",
   "name": "python",
   "nbconvert_exporter": "python",
   "pygments_lexer": "ipython3",
   "version": "3.6.4"
  }
 },
 "nbformat": 4,
 "nbformat_minor": 2
}
