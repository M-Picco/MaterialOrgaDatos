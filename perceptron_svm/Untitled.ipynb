{
 "cells": [
  {
   "cell_type": "code",
   "execution_count": 1,
   "metadata": {},
   "outputs": [],
   "source": [
    "import numpy as np\n",
    "import matplotlib.pyplot as plt"
   ]
  },
  {
   "cell_type": "code",
   "execution_count": 2,
   "metadata": {},
   "outputs": [],
   "source": [
    "def k_gauss(u, v, sigma):\n",
    "    d = np.linalg.norm(u - v)\n",
    "    return np.exp(- d**2 / (2 * sigma**2))"
   ]
  },
  {
   "cell_type": "code",
   "execution_count": 3,
   "metadata": {},
   "outputs": [],
   "source": [
    "v1 = np.array([1, 2])\n",
    "v2 = np.array([3, 2])\n",
    "v3 = np.array([2, 5])\n",
    "v4 = np.array([9, 8])\n",
    "v5 = np.array([10, 8])\n",
    "v6 = np.array([11, 6])\n",
    "\n",
    "vecs = np.array([v1, v2, v3, v4, v5, v6])"
   ]
  },
  {
   "cell_type": "code",
   "execution_count": 6,
   "metadata": {},
   "outputs": [
    {
     "data": {
      "image/png": "[encoded data removed]",
      "text/plain": [
       "<matplotlib.figure.Figure at 0x7f6e964b2588>"
      ]
     },
     "metadata": {},
     "output_type": "display_data"
    }
   ],
   "source": [
    "plt.scatter(vecs[:,0], vecs[:,1], alpha=0.8)\n",
    "plt.title(\"Datos\")\n",
    "plt.show()"
   ]
  },
  {
   "cell_type": "code",
   "execution_count": 8,
   "metadata": {},
   "outputs": [
    {
     "name": "stdout",
     "output_type": "stream",
     "text": [
      "sigma=10 K(4,3)=0.7483\n",
      "sigma=5 K(2,6)=0.2019\n",
      "sigma=5 K(6,2)=0.2019\n"
     ]
    }
   ],
   "source": [
    "print(\"sigma=10 K(4,3)=%.4f\" % k_gauss(v4, v3, 10))\n",
    "print(\"sigma=5 K(2,6)=%.4f\" % k_gauss(v2, v6, 5))\n",
    "print(\"sigma=5 K(6,2)=%.4f\" % k_gauss(v6, v2, 5))"
   ]
  },
  {
   "cell_type": "code",
   "execution_count": 9,
   "metadata": {},
   "outputs": [
    {
     "name": "stdout",
     "output_type": "stream",
     "text": [
      "sigma=2 K(1,3)=0.2865\n",
      "sigma=5 K(2,6)=0.2019\n",
      "sigma=1 K(1,5)=0.0000\n",
      "sigma=10 K(4,3)=0.7483\n"
     ]
    }
   ],
   "source": [
    "print(\"sigma=2 K(1,3)=%.4f\" % k_gauss(v1, v3, 2))\n",
    "print(\"sigma=5 K(2,6)=%.4f\" % k_gauss(v2, v6, 5))\n",
    "print(\"sigma=1 K(1,5)=%.4f\" % k_gauss(v1, v5, 1))\n",
    "print(\"sigma=10 K(4,3)=%.4f\" % k_gauss(v4, v3, 10))"
   ]
  },
  {
   "cell_type": "code",
   "execution_count": null,
   "metadata": {},
   "outputs": [],
   "source": []
  }
 ],
 "metadata": {
  "kernelspec": {
   "display_name": "Python 3",
   "language": "python",
   "name": "python3"
  },
  "language_info": {
   "codemirror_mode": {
    "name": "ipython",
    "version": 3
   },
   "file_extension": ".py",
   "mimetype": "text/x-python",
   "name": "python",
   "nbconvert_exporter": "python",
   "pygments_lexer": "ipython3",
   "version": "3.6.4"
  }
 },
 "nbformat": 4,
 "nbformat_minor": 2
}
