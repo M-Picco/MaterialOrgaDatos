{
 "cells": [
  {
   "cell_type": "code",
   "execution_count": 1,
   "metadata": {},
   "outputs": [],
   "source": [
    "import numpy as np"
   ]
  },
  {
   "cell_type": "code",
   "execution_count": 15,
   "metadata": {},
   "outputs": [],
   "source": [
    "def minkowsky(x, y, p):\n",
    "        if len(x) != len(y):\n",
    "                raise Error('different size')\n",
    "        if p == 0:\n",
    "                raise Error('p = 0')\n",
    "\n",
    "        acum = 0\n",
    "        for i in range(0, len(x)):\n",
    "                acum += np.abs(x[i] - y[i]) ** p\n",
    "\n",
    "        return acum ** (1/float(p))\n",
    "\n",
    "def cosine(x, y):\n",
    "        cos_x_y = x.dot(y) / (np.linalg.norm(x) * np.linalg.norm(y))\n",
    "        return 1 - cos_x_y"
   ]
  },
  {
   "cell_type": "code",
   "execution_count": 20,
   "metadata": {},
   "outputs": [],
   "source": [
    "v1 = np.array([-0.03523597, 0.32230245, -0.12863445, -0.05499823, 0.44394174, -0.64023494])\n",
    "v2 = np.array([-0.42261242, -0.94746882, -0.42385565, -0.57185003, 0.30857046, -0.06489488])\n",
    "v3 = np.array([0.64302075, 0.42868685, 0.30156031, -0.69333788, -0.32130466, -0.12057523])\n",
    "v4 = np.array([0.83048764, -0.31629304, -0.29266495, -0.83020893, 0.81144827, 0.27869104])\n",
    "v5 = np.array([-0.291947, 0.47880295, -0.20378554, -0.45709396, -0.56440462, -0.40772986])\n",
    "\n",
    "vecs = np.array([v1, v2, v3, v4, v5])"
   ]
  },
  {
   "cell_type": "code",
   "execution_count": 21,
   "metadata": {},
   "outputs": [
    {
     "name": "stdout",
     "output_type": "stream",
     "text": [
      "minkowsky p=0.25 v1 y v2 582.6017798274008\n"
     ]
    }
   ],
   "source": [
    "mink_12 = minkowsky(v1, v2, 0.25)\n",
    "print('minkowsky p=0.25 v1 y v2 {0}'.format(mink_12))"
   ]
  },
  {
   "cell_type": "code",
   "execution_count": 22,
   "metadata": {},
   "outputs": [
    {
     "name": "stdout",
     "output_type": "stream",
     "text": [
      "cosine v1 y v4 0.8967913358024667\n",
      "cosine v1 y v3 0.9490798021715844\n"
     ]
    }
   ],
   "source": [
    "cos_14 = cosine(v1, v4)\n",
    "print('cosine v1 y v4 {0}'.format(cos_14))\n",
    "cos_13 = cosine(v1, v3)\n",
    "print('cosine v1 y v3 {0}'.format(cos_13))"
   ]
  },
  {
   "cell_type": "code",
   "execution_count": 24,
   "metadata": {},
   "outputs": [
    {
     "name": "stdout",
     "output_type": "stream",
     "text": [
      "max manhattan = 4.4417988\n"
     ]
    }
   ],
   "source": [
    "max_manhattan = None\n",
    "for u in vecs:\n",
    "    for v in vecs:\n",
    "        d = minkowsky(u, v, 1)\n",
    "        if max_manhattan == None or d > max_manhattan:\n",
    "            max_manhattan = d\n",
    "print('max manhattan = {0}'.format(max_manhattan))"
   ]
  },
  {
   "cell_type": "code",
   "execution_count": null,
   "metadata": {},
   "outputs": [],
   "source": []
  }
 ],
 "metadata": {
  "kernelspec": {
   "display_name": "Python 3",
   "language": "python",
   "name": "python3"
  },
  "language_info": {
   "codemirror_mode": {
    "name": "ipython",
    "version": 3
   },
   "file_extension": ".py",
   "mimetype": "text/x-python",
   "name": "python",
   "nbconvert_exporter": "python",
   "pygments_lexer": "ipython3",
   "version": "3.6.4"
  }
 },
 "nbformat": 4,
 "nbformat_minor": 2
}
