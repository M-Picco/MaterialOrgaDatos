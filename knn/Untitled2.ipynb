{
 "cells": [
  {
   "cell_type": "code",
   "execution_count": 1,
   "metadata": {},
   "outputs": [
    {
     "name": "stdout",
     "output_type": "stream",
     "text": [
      "Populating the interactive namespace from numpy and matplotlib\n"
     ]
    }
   ],
   "source": [
    "from sklearn.neighbors import KNeighborsClassifier\n",
    "import numpy as np\n",
    "%pylab inline\n",
    "import matplotlib.pyplot as plt\n",
    "from sklearn import metrics\n",
    "import math"
   ]
  },
  {
   "cell_type": "code",
   "execution_count": 2,
   "metadata": {},
   "outputs": [],
   "source": [
    "x = np.array([[2,1], [1,2], [2,5], [2,6], [4,2], [5,6], [6,1], [6,5]])\n",
    "y = np.array(['violet', 'red', 'orange', 'red', 'blue', 'yellow', 'green', '#9b7cac'])"
   ]
  },
  {
   "cell_type": "code",
   "execution_count": 11,
   "metadata": {},
   "outputs": [
    {
     "data": {
      "image/png": "[encoded data removed]",
      "text/plain": [
       "<matplotlib.figure.Figure at 0x7efd369bde48>"
      ]
     },
     "metadata": {},
     "output_type": "display_data"
    }
   ],
   "source": [
    "plt.scatter(x[:,0], x[:,1], c=y)\n",
    "plt.scatter(1, 4, alpha=0.4, c=['black'])\n",
    "plt.title(\"Datos de 'entrenamiento'\")\n",
    "plt.show()"
   ]
  },
  {
   "cell_type": "code",
   "execution_count": 19,
   "metadata": {},
   "outputs": [
    {
     "name": "stdout",
     "output_type": "stream",
     "text": [
      "[[1.41421356 2.         2.23606798]]\n",
      "[0.44932896411722145, 0.20189651799465538, 0.13533528323661262]\n",
      "[[1, 4]]\n",
      "['orange']\n"
     ]
    }
   ],
   "source": [
    "K = 3\n",
    "sigma = 0.4\n",
    "\n",
    "def w(distances):\n",
    "    print(distances)\n",
    "    ret = []\n",
    "    for d in distances[0]:\n",
    "        ret.append(math.exp(-sigma * d**2))\n",
    "    print(ret)\n",
    "    return ret\n",
    "\n",
    "model = KNeighborsClassifier(n_neighbors=K, weights=w)\n",
    "model.fit(x, y)\n",
    "\n",
    "X = [[1, 4]]\n",
    "Y = model.predict(X)\n",
    "\n",
    "print(X)\n",
    "print(Y)"
   ]
  },
  {
   "cell_type": "code",
   "execution_count": null,
   "metadata": {},
   "outputs": [],
   "source": []
  }
 ],
 "metadata": {
  "kernelspec": {
   "display_name": "Python 3",
   "language": "python",
   "name": "python3"
  },
  "language_info": {
   "codemirror_mode": {
    "name": "ipython",
    "version": 3
   },
   "file_extension": ".py",
   "mimetype": "text/x-python",
   "name": "python",
   "nbconvert_exporter": "python",
   "pygments_lexer": "ipython3",
   "version": "3.6.4"
  }
 },
 "nbformat": 4,
 "nbformat_minor": 2
}
